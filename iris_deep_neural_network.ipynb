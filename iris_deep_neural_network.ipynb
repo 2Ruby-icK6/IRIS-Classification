{
 "cells": [
  {
   "cell_type": "markdown",
   "metadata": {},
   "source": [
    "# Iris Flower Classification\n",
    "\n",
    "### Group 5 - MLA Clustering and Classification Algorithm"
   ]
  },
  {
   "cell_type": "code",
   "execution_count": 55,
   "metadata": {},
   "outputs": [],
   "source": [
    "# Imports\n",
    "import os\n",
    "import pandas as pd\n",
    "import numpy as np\n",
    "import seaborn as sns\n",
    "import matplotlib.pyplot as plt\n",
    "from tensorflow import keras\n",
    "from sklearn.preprocessing import LabelEncoder, StandardScaler\n",
    "from sklearn.model_selection import train_test_split\n",
    "from sklearn.metrics import accuracy_score, confusion_matrix\n",
    "from keras.models import Sequential\n",
    "from keras.layers import Dense, Dropout"
   ]
  },
  {
   "cell_type": "markdown",
   "metadata": {},
   "source": [
    "### Imported Dataset (IRIS) CSV"
   ]
  },
  {
   "cell_type": "code",
   "execution_count": 56,
   "metadata": {},
   "outputs": [
    {
     "data": {
      "text/html": [
       "<div>\n",
       "<style scoped>\n",
       "    .dataframe tbody tr th:only-of-type {\n",
       "        vertical-align: middle;\n",
       "    }\n",
       "\n",
       "    .dataframe tbody tr th {\n",
       "        vertical-align: top;\n",
       "    }\n",
       "\n",
       "    .dataframe thead th {\n",
       "        text-align: right;\n",
       "    }\n",
       "</style>\n",
       "<table border=\"1\" class=\"dataframe\">\n",
       "  <thead>\n",
       "    <tr style=\"text-align: right;\">\n",
       "      <th></th>\n",
       "      <th>sepal_length</th>\n",
       "      <th>sepal_width</th>\n",
       "      <th>petal_length</th>\n",
       "      <th>petal_width</th>\n",
       "      <th>species</th>\n",
       "    </tr>\n",
       "  </thead>\n",
       "  <tbody>\n",
       "    <tr>\n",
       "      <th>0</th>\n",
       "      <td>5.1</td>\n",
       "      <td>3.5</td>\n",
       "      <td>1.4</td>\n",
       "      <td>0.2</td>\n",
       "      <td>Iris-setosa</td>\n",
       "    </tr>\n",
       "    <tr>\n",
       "      <th>1</th>\n",
       "      <td>4.9</td>\n",
       "      <td>3.0</td>\n",
       "      <td>1.4</td>\n",
       "      <td>0.2</td>\n",
       "      <td>Iris-setosa</td>\n",
       "    </tr>\n",
       "    <tr>\n",
       "      <th>2</th>\n",
       "      <td>4.7</td>\n",
       "      <td>3.2</td>\n",
       "      <td>1.3</td>\n",
       "      <td>0.2</td>\n",
       "      <td>Iris-setosa</td>\n",
       "    </tr>\n",
       "    <tr>\n",
       "      <th>3</th>\n",
       "      <td>4.6</td>\n",
       "      <td>3.1</td>\n",
       "      <td>1.5</td>\n",
       "      <td>0.2</td>\n",
       "      <td>Iris-setosa</td>\n",
       "    </tr>\n",
       "    <tr>\n",
       "      <th>4</th>\n",
       "      <td>5.0</td>\n",
       "      <td>3.6</td>\n",
       "      <td>1.4</td>\n",
       "      <td>0.2</td>\n",
       "      <td>Iris-setosa</td>\n",
       "    </tr>\n",
       "  </tbody>\n",
       "</table>\n",
       "</div>"
      ],
      "text/plain": [
       "   sepal_length  sepal_width  petal_length  petal_width      species\n",
       "0           5.1          3.5           1.4          0.2  Iris-setosa\n",
       "1           4.9          3.0           1.4          0.2  Iris-setosa\n",
       "2           4.7          3.2           1.3          0.2  Iris-setosa\n",
       "3           4.6          3.1           1.5          0.2  Iris-setosa\n",
       "4           5.0          3.6           1.4          0.2  Iris-setosa"
      ]
     },
     "execution_count": 56,
     "metadata": {},
     "output_type": "execute_result"
    }
   ],
   "source": [
    "df = pd.read_csv('IRIS.csv')\n",
    "df.head()"
   ]
  },
  {
   "cell_type": "code",
   "execution_count": 57,
   "metadata": {},
   "outputs": [
    {
     "data": {
      "text/plain": [
       "species\n",
       "Iris-setosa        50\n",
       "Iris-versicolor    50\n",
       "Iris-virginica     50\n",
       "Name: count, dtype: int64"
      ]
     },
     "execution_count": 57,
     "metadata": {},
     "output_type": "execute_result"
    }
   ],
   "source": [
    "df['species'].value_counts()"
   ]
  },
  {
   "cell_type": "code",
   "execution_count": 58,
   "metadata": {},
   "outputs": [
    {
     "name": "stdout",
     "output_type": "stream",
     "text": [
      "<class 'pandas.core.frame.DataFrame'>\n",
      "RangeIndex: 150 entries, 0 to 149\n",
      "Data columns (total 5 columns):\n",
      " #   Column        Non-Null Count  Dtype  \n",
      "---  ------        --------------  -----  \n",
      " 0   sepal_length  150 non-null    float64\n",
      " 1   sepal_width   150 non-null    float64\n",
      " 2   petal_length  150 non-null    float64\n",
      " 3   petal_width   150 non-null    float64\n",
      " 4   species       150 non-null    object \n",
      "dtypes: float64(4), object(1)\n",
      "memory usage: 6.0+ KB\n"
     ]
    },
    {
     "data": {
      "text/plain": [
       "sepal_length    0\n",
       "sepal_width     0\n",
       "petal_length    0\n",
       "petal_width     0\n",
       "species         0\n",
       "dtype: int64"
      ]
     },
     "execution_count": 58,
     "metadata": {},
     "output_type": "execute_result"
    }
   ],
   "source": [
    "# Checking the dataset\n",
    "df.info()\n",
    "df.isnull().sum()"
   ]
  },
  {
   "cell_type": "markdown",
   "metadata": {},
   "source": [
    "### Visualize Features of IRIS Flower"
   ]
  },
  {
   "cell_type": "code",
   "execution_count": 59,
   "metadata": {},
   "outputs": [],
   "source": [
    "setosa = df[df['species'] == 'Iris-setosa']\n",
    "versicolor = df[df['species'] == 'Iris-versicolor']\n",
    "virginica = df[df['species'] == 'Iris-virginica']"
   ]
  },
  {
   "cell_type": "code",
   "execution_count": 60,
   "metadata": {},
   "outputs": [
    {
     "data": {
      "image/png": "[encoded data removed]",
      "text/plain": [
       "<Figure size 1500x500 with 3 Axes>"
      ]
     },
     "metadata": {},
     "output_type": "display_data"
    }
   ],
   "source": [
    "# Create a 1x3 grid for subplots\n",
    "fig, axes = plt.subplots(1, 3, figsize=(15, 5))\n",
    "\n",
    "# Figure 1 =================================================================================================\n",
    "axes[0].scatter(setosa['sepal_length'], setosa['sepal_width'], label='setosa', color='red')\n",
    "axes[0].scatter(versicolor['sepal_length'], versicolor['sepal_width'], label='versicolor', color='green')\n",
    "axes[0].scatter(virginica['sepal_length'], virginica['sepal_width'], label='virginica', color='blue')\n",
    "\n",
    "axes[0].set_title('Figure 1')\n",
    "axes[0].set_xlabel('sepal_length')\n",
    "axes[0].set_ylabel('sepal_width')\n",
    "\n",
    "axes[0].legend()\n",
    "\n",
    "# Figure 2 ================================================================================================\n",
    "axes[1].scatter(setosa['sepal_length'], setosa['petal_width'], label='setosa', color='red')\n",
    "axes[1].scatter(versicolor['sepal_length'], versicolor['petal_width'], label='versicolor', color='green')\n",
    "axes[1].scatter(virginica['sepal_length'], virginica['petal_width'], label='virginica', color='blue')\n",
    "\n",
    "axes[1].set_title('Figure 2')\n",
    "axes[1].set_xlabel('sepal_length')\n",
    "axes[1].set_ylabel('petal_width')\n",
    "\n",
    "axes[1].legend()\n",
    "\n",
    "# Figure 3 ================================================================================================\n",
    "axes[2].scatter(setosa['sepal_length'], setosa['petal_length'], label='setosa', color='red')\n",
    "axes[2].scatter(versicolor['sepal_length'], versicolor['petal_length'], label='versicolor', color='green')\n",
    "axes[2].scatter(virginica['sepal_length'], virginica['petal_length'], label='virginica', color='blue')\n",
    "\n",
    "axes[2].set_title('Figure 3')\n",
    "axes[2].set_xlabel('sepal_length')\n",
    "axes[2].set_ylabel('petal_length')\n",
    "\n",
    "axes[2].legend()\n",
    "\n",
    "# Adjust layout and display the plots\n",
    "plt.tight_layout()\n",
    "plt.show()"
   ]
  },
  {
   "cell_type": "markdown",
   "metadata": {},
   "source": [
    "### Labeling Species"
   ]
  },
  {
   "cell_type": "code",
   "execution_count": 61,
   "metadata": {},
   "outputs": [
    {
     "data": {
      "text/html": [
       "<div>\n",
       "<style scoped>\n",
       "    .dataframe tbody tr th:only-of-type {\n",
       "        vertical-align: middle;\n",
       "    }\n",
       "\n",
       "    .dataframe tbody tr th {\n",
       "        vertical-align: top;\n",
       "    }\n",
       "\n",
       "    .dataframe thead th {\n",
       "        text-align: right;\n",
       "    }\n",
       "</style>\n",
       "<table border=\"1\" class=\"dataframe\">\n",
       "  <thead>\n",
       "    <tr style=\"text-align: right;\">\n",
       "      <th></th>\n",
       "      <th>sepal_length</th>\n",
       "      <th>sepal_width</th>\n",
       "      <th>petal_length</th>\n",
       "      <th>petal_width</th>\n",
       "      <th>species</th>\n",
       "    </tr>\n",
       "  </thead>\n",
       "  <tbody>\n",
       "    <tr>\n",
       "      <th>0</th>\n",
       "      <td>5.1</td>\n",
       "      <td>3.5</td>\n",
       "      <td>1.4</td>\n",
       "      <td>0.2</td>\n",
       "      <td>0</td>\n",
       "    </tr>\n",
       "    <tr>\n",
       "      <th>1</th>\n",
       "      <td>4.9</td>\n",
       "      <td>3.0</td>\n",
       "      <td>1.4</td>\n",
       "      <td>0.2</td>\n",
       "      <td>0</td>\n",
       "    </tr>\n",
       "    <tr>\n",
       "      <th>2</th>\n",
       "      <td>4.7</td>\n",
       "      <td>3.2</td>\n",
       "      <td>1.3</td>\n",
       "      <td>0.2</td>\n",
       "      <td>0</td>\n",
       "    </tr>\n",
       "    <tr>\n",
       "      <th>3</th>\n",
       "      <td>4.6</td>\n",
       "      <td>3.1</td>\n",
       "      <td>1.5</td>\n",
       "      <td>0.2</td>\n",
       "      <td>0</td>\n",
       "    </tr>\n",
       "    <tr>\n",
       "      <th>4</th>\n",
       "      <td>5.0</td>\n",
       "      <td>3.6</td>\n",
       "      <td>1.4</td>\n",
       "      <td>0.2</td>\n",
       "      <td>0</td>\n",
       "    </tr>\n",
       "  </tbody>\n",
       "</table>\n",
       "</div>"
      ],
      "text/plain": [
       "   sepal_length  sepal_width  petal_length  petal_width  species\n",
       "0           5.1          3.5           1.4          0.2        0\n",
       "1           4.9          3.0           1.4          0.2        0\n",
       "2           4.7          3.2           1.3          0.2        0\n",
       "3           4.6          3.1           1.5          0.2        0\n",
       "4           5.0          3.6           1.4          0.2        0"
      ]
     },
     "execution_count": 61,
     "metadata": {},
     "output_type": "execute_result"
    }
   ],
   "source": [
    "# Labeling Species\n",
    "le = LabelEncoder()\n",
    "df['species'] = le.fit_transform(df['species'])\n",
    "df.head()"
   ]
  },
  {
   "cell_type": "code",
   "execution_count": 62,
   "metadata": {},
   "outputs": [
    {
     "name": "stdout",
     "output_type": "stream",
     "text": [
      "['Iris-setosa' 'Iris-versicolor' 'Iris-virginica']\n"
     ]
    }
   ],
   "source": [
    "species_name = le.classes_\n",
    "print(species_name)"
   ]
  },
  {
   "cell_type": "code",
   "execution_count": 63,
   "metadata": {},
   "outputs": [
    {
     "data": {
      "text/html": [
       "<div>\n",
       "<style scoped>\n",
       "    .dataframe tbody tr th:only-of-type {\n",
       "        vertical-align: middle;\n",
       "    }\n",
       "\n",
       "    .dataframe tbody tr th {\n",
       "        vertical-align: top;\n",
       "    }\n",
       "\n",
       "    .dataframe thead th {\n",
       "        text-align: right;\n",
       "    }\n",
       "</style>\n",
       "<table border=\"1\" class=\"dataframe\">\n",
       "  <thead>\n",
       "    <tr style=\"text-align: right;\">\n",
       "      <th></th>\n",
       "      <th>sepal_length</th>\n",
       "      <th>sepal_width</th>\n",
       "      <th>petal_length</th>\n",
       "      <th>petal_width</th>\n",
       "    </tr>\n",
       "  </thead>\n",
       "  <tbody>\n",
       "    <tr>\n",
       "      <th>0</th>\n",
       "      <td>5.1</td>\n",
       "      <td>3.5</td>\n",
       "      <td>1.4</td>\n",
       "      <td>0.2</td>\n",
       "    </tr>\n",
       "    <tr>\n",
       "      <th>1</th>\n",
       "      <td>4.9</td>\n",
       "      <td>3.0</td>\n",
       "      <td>1.4</td>\n",
       "      <td>0.2</td>\n",
       "    </tr>\n",
       "    <tr>\n",
       "      <th>2</th>\n",
       "      <td>4.7</td>\n",
       "      <td>3.2</td>\n",
       "      <td>1.3</td>\n",
       "      <td>0.2</td>\n",
       "    </tr>\n",
       "    <tr>\n",
       "      <th>3</th>\n",
       "      <td>4.6</td>\n",
       "      <td>3.1</td>\n",
       "      <td>1.5</td>\n",
       "      <td>0.2</td>\n",
       "    </tr>\n",
       "    <tr>\n",
       "      <th>4</th>\n",
       "      <td>5.0</td>\n",
       "      <td>3.6</td>\n",
       "      <td>1.4</td>\n",
       "      <td>0.2</td>\n",
       "    </tr>\n",
       "  </tbody>\n",
       "</table>\n",
       "</div>"
      ],
      "text/plain": [
       "   sepal_length  sepal_width  petal_length  petal_width\n",
       "0           5.1          3.5           1.4          0.2\n",
       "1           4.9          3.0           1.4          0.2\n",
       "2           4.7          3.2           1.3          0.2\n",
       "3           4.6          3.1           1.5          0.2\n",
       "4           5.0          3.6           1.4          0.2"
      ]
     },
     "execution_count": 63,
     "metadata": {},
     "output_type": "execute_result"
    }
   ],
   "source": [
    "X = df.drop(columns=['species'])\n",
    "y = df['species']\n",
    "X.head(5)"
   ]
  },
  {
   "cell_type": "code",
   "execution_count": 64,
   "metadata": {},
   "outputs": [
    {
     "name": "stdout",
     "output_type": "stream",
     "text": [
      "0    0\n",
      "1    0\n",
      "2    0\n",
      "3    0\n",
      "4    0\n",
      "Name: species, dtype: int32\n"
     ]
    }
   ],
   "source": [
    "print(y[:5])"
   ]
  },
  {
   "cell_type": "markdown",
   "metadata": {},
   "source": [
    "### Start Training"
   ]
  },
  {
   "cell_type": "code",
   "execution_count": 65,
   "metadata": {},
   "outputs": [],
   "source": [
    "X_train, X_test, y_train, y_test = train_test_split(X, y, test_size=0.3, shuffle=True, random_state=69)"
   ]
  },
  {
   "cell_type": "code",
   "execution_count": 66,
   "metadata": {},
   "outputs": [
    {
     "data": {
      "text/plain": [
       "(105, 4)"
      ]
     },
     "execution_count": 66,
     "metadata": {},
     "output_type": "execute_result"
    }
   ],
   "source": [
    "X_train.shape"
   ]
  },
  {
   "cell_type": "code",
   "execution_count": 67,
   "metadata": {},
   "outputs": [
    {
     "name": "stdout",
     "output_type": "stream",
     "text": [
      "    sepal_length  sepal_width  petal_length  petal_width\n",
      "57           4.9          2.4           3.3          1.0\n",
      "[[-1.14630942 -1.44374444 -0.25650655 -0.258263  ]]\n"
     ]
    }
   ],
   "source": [
    "sc = StandardScaler()\n",
    "print(X_train[:1])\n",
    "X_train = sc.fit_transform(X_train)\n",
    "X_test = sc.transform(X_test)\n",
    "print(X_train[:1])"
   ]
  },
  {
   "cell_type": "code",
   "execution_count": 68,
   "metadata": {},
   "outputs": [
    {
     "name": "stdout",
     "output_type": "stream",
     "text": [
      "[[0. 1. 0.]\n",
      " [0. 0. 1.]\n",
      " [0. 1. 0.]\n",
      " [0. 1. 0.]\n",
      " [0. 1. 0.]]\n"
     ]
    }
   ],
   "source": [
    "y_train = keras.utils.to_categorical(y_train, num_classes=3)\n",
    "print(y_train[:5])"
   ]
  },
  {
   "cell_type": "code",
   "execution_count": 69,
   "metadata": {},
   "outputs": [],
   "source": [
    "model = Sequential()\n",
    "model.add(Dense(units = 32, activation='relu', input_shape=(X_train.shape[-1],)))\n",
    "model.add(Dense(units = 32, activation='relu'))\n",
    "model.add(Dropout(0.5))\n",
    "model.add(Dense(units=3, activation='softmax'))"
   ]
  },
  {
   "cell_type": "code",
   "execution_count": 70,
   "metadata": {},
   "outputs": [
    {
     "name": "stdout",
     "output_type": "stream",
     "text": [
      "Model: \"sequential_2\"\n",
      "_________________________________________________________________\n",
      " Layer (type)                Output Shape              Param #   \n",
      "=================================================================\n",
      " dense_6 (Dense)             (None, 32)                160       \n",
      "                                                                 \n",
      " dense_7 (Dense)             (None, 32)                1056      \n",
      "                                                                 \n",
      " dropout_2 (Dropout)         (None, 32)                0         \n",
      "                                                                 \n",
      " dense_8 (Dense)             (None, 3)                 99        \n",
      "                                                                 \n",
      "=================================================================\n",
      "Total params: 1,315\n",
      "Trainable params: 1,315\n",
      "Non-trainable params: 0\n",
      "_________________________________________________________________\n"
     ]
    }
   ],
   "source": [
    "model.compile(optimizer='Adam', loss='categorical_crossentropy', metrics=['accuracy'])\n",
    "model.summary()"
   ]
  },
  {
   "cell_type": "code",
   "execution_count": 71,
   "metadata": {},
   "outputs": [
    {
     "name": "stdout",
     "output_type": "stream",
     "text": [
      "Epoch 1/100\n",
      "4/4 - 3s - loss: 1.1266 - accuracy: 0.3524 - 3s/epoch - 642ms/step\n",
      "Epoch 2/100\n",
      "4/4 - 0s - loss: 1.1244 - accuracy: 0.3048 - 15ms/epoch - 4ms/step\n",
      "Epoch 3/100\n",
      "4/4 - 0s - loss: 1.0789 - accuracy: 0.4381 - 5ms/epoch - 1ms/step\n",
      "Epoch 4/100\n",
      "4/4 - 0s - loss: 0.9905 - accuracy: 0.5143 - 16ms/epoch - 4ms/step\n",
      "Epoch 5/100\n",
      "4/4 - 0s - loss: 0.9368 - accuracy: 0.5524 - 16ms/epoch - 4ms/step\n",
      "Epoch 6/100\n",
      "4/4 - 0s - loss: 0.8723 - accuracy: 0.6762 - 28ms/epoch - 7ms/step\n",
      "Epoch 7/100\n",
      "4/4 - 0s - loss: 0.8346 - accuracy: 0.7143 - 14ms/epoch - 4ms/step\n",
      "Epoch 8/100\n",
      "4/4 - 0s - loss: 0.8334 - accuracy: 0.7429 - 18ms/epoch - 5ms/step\n",
      "Epoch 9/100\n",
      "4/4 - 0s - loss: 0.7877 - accuracy: 0.6952 - 22ms/epoch - 5ms/step\n",
      "Epoch 10/100\n",
      "4/4 - 0s - loss: 0.7068 - accuracy: 0.7429 - 11ms/epoch - 3ms/step\n",
      "Epoch 11/100\n",
      "4/4 - 0s - loss: 0.7178 - accuracy: 0.7619 - 8ms/epoch - 2ms/step\n",
      "Epoch 12/100\n",
      "4/4 - 0s - loss: 0.7147 - accuracy: 0.7524 - 16ms/epoch - 4ms/step\n",
      "Epoch 13/100\n",
      "4/4 - 0s - loss: 0.6687 - accuracy: 0.7619 - 16ms/epoch - 4ms/step\n",
      "Epoch 14/100\n",
      "4/4 - 0s - loss: 0.6364 - accuracy: 0.8095 - 4ms/epoch - 1ms/step\n",
      "Epoch 15/100\n",
      "4/4 - 0s - loss: 0.5971 - accuracy: 0.8000 - 14ms/epoch - 4ms/step\n",
      "Epoch 16/100\n",
      "4/4 - 0s - loss: 0.5776 - accuracy: 0.7810 - 16ms/epoch - 4ms/step\n",
      "Epoch 17/100\n",
      "4/4 - 0s - loss: 0.5822 - accuracy: 0.7714 - 19ms/epoch - 5ms/step\n",
      "Epoch 18/100\n",
      "4/4 - 0s - loss: 0.5636 - accuracy: 0.8286 - 17ms/epoch - 4ms/step\n",
      "Epoch 19/100\n",
      "4/4 - 0s - loss: 0.5461 - accuracy: 0.8190 - 16ms/epoch - 4ms/step\n",
      "Epoch 20/100\n",
      "4/4 - 0s - loss: 0.5409 - accuracy: 0.7905 - 18ms/epoch - 5ms/step\n",
      "Epoch 21/100\n",
      "4/4 - 0s - loss: 0.5149 - accuracy: 0.8095 - 0s/epoch - 0s/step\n",
      "Epoch 22/100\n",
      "4/4 - 0s - loss: 0.5146 - accuracy: 0.8190 - 16ms/epoch - 4ms/step\n",
      "Epoch 23/100\n",
      "4/4 - 0s - loss: 0.5004 - accuracy: 0.8095 - 18ms/epoch - 4ms/step\n",
      "Epoch 24/100\n",
      "4/4 - 0s - loss: 0.4527 - accuracy: 0.8286 - 23ms/epoch - 6ms/step\n",
      "Epoch 25/100\n",
      "4/4 - 0s - loss: 0.4757 - accuracy: 0.8381 - 11ms/epoch - 3ms/step\n",
      "Epoch 26/100\n",
      "4/4 - 0s - loss: 0.4830 - accuracy: 0.7714 - 16ms/epoch - 4ms/step\n",
      "Epoch 27/100\n",
      "4/4 - 0s - loss: 0.4374 - accuracy: 0.8190 - 16ms/epoch - 4ms/step\n",
      "Epoch 28/100\n",
      "4/4 - 0s - loss: 0.4468 - accuracy: 0.8095 - 17ms/epoch - 4ms/step\n",
      "Epoch 29/100\n",
      "4/4 - 0s - loss: 0.4079 - accuracy: 0.8381 - 16ms/epoch - 4ms/step\n",
      "Epoch 30/100\n",
      "4/4 - 0s - loss: 0.4064 - accuracy: 0.8476 - 17ms/epoch - 4ms/step\n",
      "Epoch 31/100\n",
      "4/4 - 0s - loss: 0.4569 - accuracy: 0.8381 - 17ms/epoch - 4ms/step\n",
      "Epoch 32/100\n",
      "4/4 - 0s - loss: 0.3984 - accuracy: 0.8190 - 15ms/epoch - 4ms/step\n",
      "Epoch 33/100\n",
      "4/4 - 0s - loss: 0.4099 - accuracy: 0.8286 - 17ms/epoch - 4ms/step\n",
      "Epoch 34/100\n",
      "4/4 - 0s - loss: 0.3523 - accuracy: 0.8857 - 18ms/epoch - 4ms/step\n",
      "Epoch 35/100\n",
      "4/4 - 0s - loss: 0.3768 - accuracy: 0.8571 - 16ms/epoch - 4ms/step\n",
      "Epoch 36/100\n",
      "4/4 - 0s - loss: 0.4044 - accuracy: 0.8381 - 18ms/epoch - 4ms/step\n",
      "Epoch 37/100\n",
      "4/4 - 0s - loss: 0.3843 - accuracy: 0.8381 - 19ms/epoch - 5ms/step\n",
      "Epoch 38/100\n",
      "4/4 - 0s - loss: 0.3937 - accuracy: 0.8762 - 14ms/epoch - 3ms/step\n",
      "Epoch 39/100\n",
      "4/4 - 0s - loss: 0.3248 - accuracy: 0.8952 - 17ms/epoch - 4ms/step\n",
      "Epoch 40/100\n",
      "4/4 - 0s - loss: 0.3399 - accuracy: 0.9048 - 17ms/epoch - 4ms/step\n",
      "Epoch 41/100\n",
      "4/4 - 0s - loss: 0.3587 - accuracy: 0.8476 - 33ms/epoch - 8ms/step\n",
      "Epoch 42/100\n",
      "4/4 - 0s - loss: 0.3652 - accuracy: 0.8762 - 16ms/epoch - 4ms/step\n",
      "Epoch 43/100\n",
      "4/4 - 0s - loss: 0.3372 - accuracy: 0.8476 - 17ms/epoch - 4ms/step\n",
      "Epoch 44/100\n",
      "4/4 - 0s - loss: 0.3268 - accuracy: 0.8667 - 14ms/epoch - 3ms/step\n",
      "Epoch 45/100\n",
      "4/4 - 0s - loss: 0.3283 - accuracy: 0.9048 - 16ms/epoch - 4ms/step\n",
      "Epoch 46/100\n",
      "4/4 - 0s - loss: 0.3527 - accuracy: 0.8857 - 32ms/epoch - 8ms/step\n",
      "Epoch 47/100\n",
      "4/4 - 0s - loss: 0.3076 - accuracy: 0.9143 - 16ms/epoch - 4ms/step\n",
      "Epoch 48/100\n",
      "4/4 - 0s - loss: 0.3332 - accuracy: 0.8857 - 16ms/epoch - 4ms/step\n",
      "Epoch 49/100\n",
      "4/4 - 0s - loss: 0.2900 - accuracy: 0.8952 - 16ms/epoch - 4ms/step\n",
      "Epoch 50/100\n",
      "4/4 - 0s - loss: 0.3314 - accuracy: 0.8762 - 24ms/epoch - 6ms/step\n",
      "Epoch 51/100\n",
      "4/4 - 0s - loss: 0.2773 - accuracy: 0.9143 - 16ms/epoch - 4ms/step\n",
      "Epoch 52/100\n",
      "4/4 - 0s - loss: 0.3258 - accuracy: 0.8952 - 17ms/epoch - 4ms/step\n",
      "Epoch 53/100\n",
      "4/4 - 0s - loss: 0.3082 - accuracy: 0.8857 - 16ms/epoch - 4ms/step\n",
      "Epoch 54/100\n",
      "4/4 - 0s - loss: 0.2899 - accuracy: 0.9238 - 17ms/epoch - 4ms/step\n",
      "Epoch 55/100\n",
      "4/4 - 0s - loss: 0.2643 - accuracy: 0.9524 - 0s/epoch - 0s/step\n",
      "Epoch 56/100\n",
      "4/4 - 0s - loss: 0.2459 - accuracy: 0.9619 - 0s/epoch - 0s/step\n",
      "Epoch 57/100\n",
      "4/4 - 0s - loss: 0.2906 - accuracy: 0.8952 - 17ms/epoch - 4ms/step\n",
      "Epoch 58/100\n",
      "4/4 - 0s - loss: 0.3115 - accuracy: 0.8762 - 39ms/epoch - 10ms/step\n",
      "Epoch 59/100\n",
      "4/4 - 0s - loss: 0.2701 - accuracy: 0.9143 - 16ms/epoch - 4ms/step\n",
      "Epoch 60/100\n",
      "4/4 - 0s - loss: 0.2624 - accuracy: 0.9048 - 31ms/epoch - 8ms/step\n",
      "Epoch 61/100\n",
      "4/4 - 0s - loss: 0.2798 - accuracy: 0.9048 - 16ms/epoch - 4ms/step\n",
      "Epoch 62/100\n",
      "4/4 - 0s - loss: 0.3128 - accuracy: 0.9048 - 31ms/epoch - 8ms/step\n",
      "Epoch 63/100\n",
      "4/4 - 0s - loss: 0.2357 - accuracy: 0.9238 - 16ms/epoch - 4ms/step\n",
      "Epoch 64/100\n",
      "4/4 - 0s - loss: 0.2398 - accuracy: 0.9048 - 16ms/epoch - 4ms/step\n",
      "Epoch 65/100\n",
      "4/4 - 0s - loss: 0.2325 - accuracy: 0.9429 - 16ms/epoch - 4ms/step\n",
      "Epoch 66/100\n",
      "4/4 - 0s - loss: 0.2564 - accuracy: 0.9333 - 16ms/epoch - 4ms/step\n",
      "Epoch 67/100\n",
      "4/4 - 0s - loss: 0.2229 - accuracy: 0.9429 - 16ms/epoch - 4ms/step\n",
      "Epoch 68/100\n",
      "4/4 - 0s - loss: 0.1822 - accuracy: 0.9714 - 16ms/epoch - 4ms/step\n",
      "Epoch 69/100\n",
      "4/4 - 0s - loss: 0.2340 - accuracy: 0.9333 - 16ms/epoch - 4ms/step\n",
      "Epoch 70/100\n",
      "4/4 - 0s - loss: 0.2401 - accuracy: 0.8857 - 16ms/epoch - 4ms/step\n",
      "Epoch 71/100\n",
      "4/4 - 0s - loss: 0.2471 - accuracy: 0.9429 - 16ms/epoch - 4ms/step\n",
      "Epoch 72/100\n",
      "4/4 - 0s - loss: 0.2373 - accuracy: 0.9524 - 16ms/epoch - 4ms/step\n",
      "Epoch 73/100\n",
      "4/4 - 0s - loss: 0.2308 - accuracy: 0.9429 - 16ms/epoch - 4ms/step\n",
      "Epoch 74/100\n",
      "4/4 - 0s - loss: 0.2136 - accuracy: 0.9238 - 16ms/epoch - 4ms/step\n",
      "Epoch 75/100\n",
      "4/4 - 0s - loss: 0.1794 - accuracy: 0.9619 - 16ms/epoch - 4ms/step\n",
      "Epoch 76/100\n",
      "4/4 - 0s - loss: 0.1902 - accuracy: 0.9619 - 0s/epoch - 0s/step\n",
      "Epoch 77/100\n",
      "4/4 - 0s - loss: 0.1864 - accuracy: 0.9429 - 16ms/epoch - 4ms/step\n",
      "Epoch 78/100\n",
      "4/4 - 0s - loss: 0.1978 - accuracy: 0.9524 - 16ms/epoch - 4ms/step\n",
      "Epoch 79/100\n",
      "4/4 - 0s - loss: 0.2155 - accuracy: 0.9524 - 16ms/epoch - 4ms/step\n",
      "Epoch 80/100\n",
      "4/4 - 0s - loss: 0.2051 - accuracy: 0.9619 - 16ms/epoch - 4ms/step\n",
      "Epoch 81/100\n",
      "4/4 - 0s - loss: 0.2005 - accuracy: 0.9429 - 16ms/epoch - 4ms/step\n",
      "Epoch 82/100\n",
      "4/4 - 0s - loss: 0.1854 - accuracy: 0.9524 - 16ms/epoch - 4ms/step\n",
      "Epoch 83/100\n",
      "4/4 - 0s - loss: 0.2289 - accuracy: 0.9429 - 16ms/epoch - 4ms/step\n",
      "Epoch 84/100\n",
      "4/4 - 0s - loss: 0.1870 - accuracy: 0.9619 - 31ms/epoch - 8ms/step\n",
      "Epoch 85/100\n",
      "4/4 - 0s - loss: 0.2136 - accuracy: 0.9333 - 16ms/epoch - 4ms/step\n",
      "Epoch 86/100\n",
      "4/4 - 0s - loss: 0.1872 - accuracy: 0.9429 - 16ms/epoch - 4ms/step\n",
      "Epoch 87/100\n",
      "4/4 - 0s - loss: 0.2138 - accuracy: 0.9048 - 31ms/epoch - 8ms/step\n",
      "Epoch 88/100\n",
      "4/4 - 0s - loss: 0.1964 - accuracy: 0.9429 - 16ms/epoch - 4ms/step\n",
      "Epoch 89/100\n",
      "4/4 - 0s - loss: 0.2159 - accuracy: 0.9429 - 16ms/epoch - 4ms/step\n",
      "Epoch 90/100\n",
      "4/4 - 0s - loss: 0.2005 - accuracy: 0.9429 - 16ms/epoch - 4ms/step\n",
      "Epoch 91/100\n",
      "4/4 - 0s - loss: 0.1688 - accuracy: 0.9524 - 16ms/epoch - 4ms/step\n",
      "Epoch 92/100\n",
      "4/4 - 0s - loss: 0.1727 - accuracy: 0.9524 - 16ms/epoch - 4ms/step\n",
      "Epoch 93/100\n",
      "4/4 - 0s - loss: 0.1825 - accuracy: 0.9524 - 16ms/epoch - 4ms/step\n",
      "Epoch 94/100\n",
      "4/4 - 0s - loss: 0.1445 - accuracy: 0.9810 - 16ms/epoch - 4ms/step\n",
      "Epoch 95/100\n",
      "4/4 - 0s - loss: 0.1717 - accuracy: 0.9524 - 16ms/epoch - 4ms/step\n",
      "Epoch 96/100\n",
      "4/4 - 0s - loss: 0.1626 - accuracy: 0.9524 - 16ms/epoch - 4ms/step\n",
      "Epoch 97/100\n",
      "4/4 - 0s - loss: 0.2156 - accuracy: 0.9429 - 16ms/epoch - 4ms/step\n",
      "Epoch 98/100\n",
      "4/4 - 0s - loss: 0.2180 - accuracy: 0.9333 - 16ms/epoch - 4ms/step\n",
      "Epoch 99/100\n",
      "4/4 - 0s - loss: 0.1511 - accuracy: 0.9524 - 16ms/epoch - 4ms/step\n",
      "Epoch 100/100\n",
      "4/4 - 0s - loss: 0.1639 - accuracy: 0.9524 - 16ms/epoch - 4ms/step\n"
     ]
    },
    {
     "data": {
      "text/plain": [
       "<keras.callbacks.History at 0x1cec3d79750>"
      ]
     },
     "execution_count": 71,
     "metadata": {},
     "output_type": "execute_result"
    }
   ],
   "source": [
    "model.fit(X_train, y_train, epochs=100, verbose=2)"
   ]
  },
  {
   "cell_type": "code",
   "execution_count": 72,
   "metadata": {},
   "outputs": [
    {
     "name": "stdout",
     "output_type": "stream",
     "text": [
      "2/2 [==============================] - 0s 16ms/step\n",
      "[[9.9990094e-01 4.9075370e-05 4.9987153e-05]\n",
      " [2.4783481e-02 8.9819723e-01 7.7019371e-02]\n",
      " [9.9953902e-01 3.1649318e-04 1.4455512e-04]\n",
      " [3.1676516e-04 6.1914595e-03 9.9349171e-01]\n",
      " [9.9934918e-01 4.2576986e-04 2.2508827e-04]]\n"
     ]
    }
   ],
   "source": [
    "prediction = model.predict(X_test)\n",
    "print(prediction[:5])"
   ]
  },
  {
   "cell_type": "code",
   "execution_count": 73,
   "metadata": {},
   "outputs": [
    {
     "name": "stdout",
     "output_type": "stream",
     "text": [
      "[0 1 0 2 0]\n",
      "45\n"
     ]
    }
   ],
   "source": [
    "prediction = np.argmax(prediction, axis=-1)\n",
    "print(prediction[:5])\n",
    "print(len(prediction))"
   ]
  },
  {
   "cell_type": "code",
   "execution_count": 74,
   "metadata": {},
   "outputs": [
    {
     "name": "stdout",
     "output_type": "stream",
     "text": [
      "4      0\n",
      "58     1\n",
      "20     0\n",
      "114    2\n",
      "31     0\n",
      "Name: species, dtype: int32\n",
      "[0 1 0 2 0]\n",
      "45\n"
     ]
    }
   ],
   "source": [
    "print(y_test[:5])\n",
    "y_test = np.array(y_test)\n",
    "print(y_test[:5])\n",
    "print(len(y_test))"
   ]
  },
  {
   "cell_type": "code",
   "execution_count": 75,
   "metadata": {},
   "outputs": [
    {
     "name": "stdout",
     "output_type": "stream",
     "text": [
      "0.9777777777777777\n"
     ]
    }
   ],
   "source": [
    "print(accuracy_score(y_test, prediction))"
   ]
  },
  {
   "cell_type": "code",
   "execution_count": 76,
   "metadata": {},
   "outputs": [
    {
     "name": "stdout",
     "output_type": "stream",
     "text": [
      "[[16  0  0]\n",
      " [ 0 12  0]\n",
      " [ 0  1 16]]\n"
     ]
    }
   ],
   "source": [
    "cm = confusion_matrix(y_test, prediction)\n",
    "print(cm)"
   ]
  },
  {
   "cell_type": "code",
   "execution_count": 77,
   "metadata": {},
   "outputs": [
    {
     "data": {
      "text/plain": [
       "Text(50.72222222222221, 0.5, 'Actual Species')"
      ]
     },
     "execution_count": 77,
     "metadata": {},
     "output_type": "execute_result"
    },
    {
     "data": {
      "image/png": "[encoded data removed]",
      "text/plain": [
       "<Figure size 640x480 with 2 Axes>"
      ]
     },
     "metadata": {},
     "output_type": "display_data"
    }
   ],
   "source": [
    "ax = sns.heatmap(cm, annot=True, fmt='d', cmap='Blues', xticklabels=species_name, yticklabels=species_name)\n",
    "ax.set_title('Confusion Matrix')\n",
    "ax.set_xlabel('Prediction Species')\n",
    "ax.set_ylabel('Actual Species')"
   ]
  },
  {
   "cell_type": "markdown",
   "metadata": {},
   "source": [
    "### Save Model for Application"
   ]
  },
  {
   "cell_type": "code",
   "execution_count": 78,
   "metadata": {},
   "outputs": [],
   "source": [
    "model.save(os.path.join('models', 'IRIS_prediction.h5'))"
   ]
  }
 ],
 "metadata": {
  "kernelspec": {
   "display_name": "Python 3",
   "language": "python",
   "name": "python3"
  },
  "language_info": {
   "codemirror_mode": {
    "name": "ipython",
    "version": 3
   },
   "file_extension": ".py",
   "mimetype": "text/x-python",
   "name": "python",
   "nbconvert_exporter": "python",
   "pygments_lexer": "ipython3",
   "version": "3.11.6"
  }
 },
 "nbformat": 4,
 "nbformat_minor": 2
}
